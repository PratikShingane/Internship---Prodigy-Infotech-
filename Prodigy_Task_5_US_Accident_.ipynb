{
  "cells": [
    {
      "cell_type": "code",
      "execution_count": null,
      "metadata": {
        "execution": {
          "iopub.execute_input": "2024-01-01T14:40:11.247952Z",
          "iopub.status.busy": "2024-01-01T14:40:11.247487Z",
          "iopub.status.idle": "2024-01-01T14:40:13.168101Z",
          "shell.execute_reply": "2024-01-01T14:40:13.166589Z",
          "shell.execute_reply.started": "2024-01-01T14:40:11.247926Z"
        },
        "id": "IsHGEDS07S8Z"
      },
      "outputs": [],
      "source": [
        "import pandas as pd\n",
        "import matplotlib.pyplot as plt\n",
        "import seaborn as sns\n",
        "import warnings\n",
        "warnings.filterwarnings('ignore')"
      ]
    },
    {
      "cell_type": "code",
      "source": [
        "data= pd.read_csv('/kaggle/input/us-accidents/US_Accidents_March23.csv')\n",
        "data.head()"
      ],
      "metadata": {
        "id": "UQQaukcx8Lzv"
      },
      "execution_count": null,
      "outputs": []
    },
    {
      "cell_type": "code",
      "execution_count": null,
      "metadata": {
        "execution": {
          "iopub.execute_input": "2024-01-01T14:41:56.526697Z",
          "iopub.status.busy": "2024-01-01T14:41:56.526421Z",
          "iopub.status.idle": "2024-01-01T14:41:56.649016Z",
          "shell.execute_reply": "2024-01-01T14:41:56.647615Z",
          "shell.execute_reply.started": "2024-01-01T14:41:56.526672Z"
        },
        "id": "lIt8m7_67S8b"
      },
      "outputs": [],
      "source": [
        "data.info()"
      ]
    },
    {
      "cell_type": "code",
      "execution_count": null,
      "metadata": {
        "execution": {
          "iopub.execute_input": "2024-01-01T14:41:56.65264Z",
          "iopub.status.busy": "2024-01-01T14:41:56.652311Z",
          "iopub.status.idle": "2024-01-01T14:42:01.891267Z",
          "shell.execute_reply": "2024-01-01T14:42:01.889663Z",
          "shell.execute_reply.started": "2024-01-01T14:41:56.652612Z"
        },
        "id": "E6T1QQXQ7S8b"
      },
      "outputs": [],
      "source": [
        "data.isnull().sum()"
      ]
    },
    {
      "cell_type": "code",
      "execution_count": null,
      "metadata": {
        "execution": {
          "iopub.execute_input": "2024-01-01T14:42:01.893162Z",
          "iopub.status.busy": "2024-01-01T14:42:01.892741Z",
          "iopub.status.idle": "2024-01-01T14:42:05.401842Z",
          "shell.execute_reply": "2024-01-01T14:42:05.400239Z",
          "shell.execute_reply.started": "2024-01-01T14:42:01.893124Z"
        },
        "id": "XTiBbLat7S8b"
      },
      "outputs": [],
      "source": [
        "data.describe().T"
      ]
    },
    {
      "cell_type": "code",
      "execution_count": null,
      "metadata": {
        "execution": {
          "iopub.execute_input": "2024-01-01T14:42:05.40572Z",
          "iopub.status.busy": "2024-01-01T14:42:05.404611Z",
          "iopub.status.idle": "2024-01-01T14:42:05.550074Z",
          "shell.execute_reply": "2024-01-01T14:42:05.549243Z",
          "shell.execute_reply.started": "2024-01-01T14:42:05.405665Z"
        },
        "id": "dlsvkXav7S8b"
      },
      "outputs": [],
      "source": [
        "# Find the number of columns that are numeric\n",
        "numerics = ['int16','int32','int64','float16','float32','float64']\n",
        "numeric_df = data.select_dtypes(numerics)\n",
        "len(numeric_df.columns)"
      ]
    },
    {
      "cell_type": "code",
      "execution_count": null,
      "metadata": {
        "execution": {
          "iopub.execute_input": "2024-01-01T14:42:05.552375Z",
          "iopub.status.busy": "2024-01-01T14:42:05.551389Z",
          "iopub.status.idle": "2024-01-01T14:42:11.666354Z",
          "shell.execute_reply": "2024-01-01T14:42:11.663995Z",
          "shell.execute_reply.started": "2024-01-01T14:42:05.552345Z"
        },
        "id": "bJ2UlewG7S8b"
      },
      "outputs": [],
      "source": [
        "# Find number of missing values in dataset\n",
        "missing_percentages = round(data.isnull().sum().sort_values(ascending=True) /len(data) *100,2)"
      ]
    },
    {
      "cell_type": "code",
      "execution_count": null,
      "metadata": {
        "execution": {
          "iopub.execute_input": "2024-01-01T14:42:11.668606Z",
          "iopub.status.busy": "2024-01-01T14:42:11.668225Z",
          "iopub.status.idle": "2024-01-01T14:42:11.676651Z",
          "shell.execute_reply": "2024-01-01T14:42:11.674628Z",
          "shell.execute_reply.started": "2024-01-01T14:42:11.668574Z"
        },
        "id": "U9CkqhA07S8b"
      },
      "outputs": [],
      "source": [
        "missing_per = missing_percentages[missing_percentages.values > 0]"
      ]
    },
    {
      "cell_type": "code",
      "execution_count": null,
      "metadata": {
        "execution": {
          "iopub.execute_input": "2024-01-01T14:42:11.679089Z",
          "iopub.status.busy": "2024-01-01T14:42:11.678586Z",
          "iopub.status.idle": "2024-01-01T14:42:12.112344Z",
          "shell.execute_reply": "2024-01-01T14:42:12.110976Z",
          "shell.execute_reply.started": "2024-01-01T14:42:11.679051Z"
        },
        "id": "dTbcDCEz7S8c"
      },
      "outputs": [],
      "source": [
        "plt.figure(figsize=(10,7))\n",
        "sns.barplot(x=missing_per , y= missing_per.index)\n",
        "plt.xlabel('Missing Percentage')\n",
        "plt.ylabel('Features')\n",
        "plt.title('Missing Data Percentage by Feature')\n",
        "plt.show()"
      ]
    },
    {
      "cell_type": "code",
      "execution_count": null,
      "metadata": {
        "execution": {
          "iopub.execute_input": "2024-01-01T14:42:12.116078Z",
          "iopub.status.busy": "2024-01-01T14:42:12.115685Z",
          "iopub.status.idle": "2024-01-01T14:42:12.563441Z",
          "shell.execute_reply": "2024-01-01T14:42:12.562017Z",
          "shell.execute_reply.started": "2024-01-01T14:42:12.116044Z"
        },
        "id": "LLYXWniR7S8c"
      },
      "outputs": [],
      "source": [
        "# Analyzing the data by state column\n",
        "states = data['State'].value_counts().head() # The data indicates california is the highest accident state\n"
      ]
    },
    {
      "cell_type": "code",
      "execution_count": null,
      "metadata": {
        "execution": {
          "iopub.execute_input": "2024-01-01T14:42:12.564804Z",
          "iopub.status.busy": "2024-01-01T14:42:12.564486Z",
          "iopub.status.idle": "2024-01-01T14:42:12.849843Z",
          "shell.execute_reply": "2024-01-01T14:42:12.847294Z",
          "shell.execute_reply.started": "2024-01-01T14:42:12.564757Z"
        },
        "id": "yD-uZBAC7S8c"
      },
      "outputs": [],
      "source": [
        "plt.figure(figsize=(10,7))\n",
        "sns.barplot(y=states , x = states.index, palette=\"RdPu\")\n",
        "plt.title('Top 5 highest accident States')\n",
        "plt.xlabel('State')\n",
        "plt.ylabel('Count')\n",
        "plt.show()"
      ]
    },
    {
      "cell_type": "code",
      "execution_count": null,
      "metadata": {
        "execution": {
          "iopub.execute_input": "2024-01-01T14:42:12.852746Z",
          "iopub.status.busy": "2024-01-01T14:42:12.852311Z",
          "iopub.status.idle": "2024-01-01T14:42:14.746098Z",
          "shell.execute_reply": "2024-01-01T14:42:14.744385Z",
          "shell.execute_reply.started": "2024-01-01T14:42:12.852703Z"
        },
        "id": "PQSopEy77S8c"
      },
      "outputs": [],
      "source": [
        "# Analyzing the cities columns\n",
        "cities_by_accidents = data['City'].value_counts()\n",
        "data['City'].nunique()                                  # There are record of 13678 cities"
      ]
    },
    {
      "cell_type": "code",
      "execution_count": null,
      "metadata": {
        "execution": {
          "iopub.execute_input": "2024-01-01T14:42:14.751371Z",
          "iopub.status.busy": "2024-01-01T14:42:14.750779Z",
          "iopub.status.idle": "2024-01-01T14:42:14.764147Z",
          "shell.execute_reply": "2024-01-01T14:42:14.761994Z",
          "shell.execute_reply.started": "2024-01-01T14:42:14.75134Z"
        },
        "id": "YLuaRQpg7S8d"
      },
      "outputs": [],
      "source": [
        "city = cities_by_accidents.sort_values(ascending=False).head(20)"
      ]
    },
    {
      "cell_type": "code",
      "execution_count": null,
      "metadata": {
        "execution": {
          "iopub.execute_input": "2024-01-01T14:42:14.766629Z",
          "iopub.status.busy": "2024-01-01T14:42:14.765739Z",
          "iopub.status.idle": "2024-01-01T14:42:15.160628Z",
          "shell.execute_reply": "2024-01-01T14:42:15.1584Z",
          "shell.execute_reply.started": "2024-01-01T14:42:14.766533Z"
        },
        "id": "7c3hvm9y7S8d"
      },
      "outputs": [],
      "source": [
        "plt.figure(figsize=(10,7))\n",
        "sns.barplot(x=city.values, y=city.index, color='green')\n",
        "\n",
        "plt.xlabel('Number of Accidents')\n",
        "plt.ylabel('City')\n",
        "plt.title('Top 20 Cities with Highest Number of Accidents', y=1.05)\n",
        "plt.show()"
      ]
    },
    {
      "cell_type": "code",
      "execution_count": null,
      "metadata": {
        "execution": {
          "iopub.execute_input": "2024-01-01T14:42:15.16367Z",
          "iopub.status.busy": "2024-01-01T14:42:15.162836Z",
          "iopub.status.idle": "2024-01-01T14:42:15.169359Z",
          "shell.execute_reply": "2024-01-01T14:42:15.168169Z",
          "shell.execute_reply.started": "2024-01-01T14:42:15.163511Z"
        },
        "id": "_tTpmFQu7S8d"
      },
      "outputs": [],
      "source": [
        "sns.set_style('whitegrid')"
      ]
    },
    {
      "cell_type": "code",
      "execution_count": null,
      "metadata": {
        "execution": {
          "iopub.execute_input": "2024-01-01T14:42:15.171336Z",
          "iopub.status.busy": "2024-01-01T14:42:15.17058Z",
          "iopub.status.idle": "2024-01-01T14:42:15.779341Z",
          "shell.execute_reply": "2024-01-01T14:42:15.777838Z",
          "shell.execute_reply.started": "2024-01-01T14:42:15.171306Z"
        },
        "id": "YaGAwdYL7S8d"
      },
      "outputs": [],
      "source": [
        "sns.distplot(cities_by_accidents) # Based on the diagram we see that the probability of accident occuring is very less\n",
        "plt.title(\"Number of accidents distributed across the cities\")\n",
        "plt.show()"
      ]
    },
    {
      "cell_type": "code",
      "execution_count": null,
      "metadata": {
        "execution": {
          "iopub.execute_input": "2024-01-01T14:42:15.780775Z",
          "iopub.status.busy": "2024-01-01T14:42:15.78047Z",
          "iopub.status.idle": "2024-01-01T14:42:19.226673Z",
          "shell.execute_reply": "2024-01-01T14:42:19.224823Z",
          "shell.execute_reply.started": "2024-01-01T14:42:15.780744Z"
        },
        "id": "uOg8MVYD7S8d"
      },
      "outputs": [],
      "source": [
        "# Analyzing the start time column\n",
        "data['Start_Time'] = pd.to_datetime(data['Start_Time'], errors='coerce')"
      ]
    },
    {
      "cell_type": "code",
      "execution_count": null,
      "metadata": {
        "execution": {
          "iopub.execute_input": "2024-01-01T14:42:19.229123Z",
          "iopub.status.busy": "2024-01-01T14:42:19.228763Z",
          "iopub.status.idle": "2024-01-01T14:42:20.459293Z",
          "shell.execute_reply": "2024-01-01T14:42:20.458011Z",
          "shell.execute_reply.started": "2024-01-01T14:42:19.229087Z"
        },
        "id": "7V47Ejm87S8e"
      },
      "outputs": [],
      "source": [
        "# Accident over time\n",
        "plt.figure(figsize=(10,5))\n",
        "sns.barplot(x = data['Start_Time'].dt.hour.value_counts().index,y = (data['Start_Time'].dt.hour.value_counts().values/len(data))*100, palette='pastel')\n",
        "plt.title('Count of Accidents over time')\n",
        "plt.show()"
      ]
    },
    {
      "cell_type": "code",
      "execution_count": null,
      "metadata": {
        "execution": {
          "iopub.execute_input": "2024-01-01T14:42:20.461463Z",
          "iopub.status.busy": "2024-01-01T14:42:20.461069Z",
          "iopub.status.idle": "2024-01-01T14:42:21.530417Z",
          "shell.execute_reply": "2024-01-01T14:42:21.528715Z",
          "shell.execute_reply.started": "2024-01-01T14:42:20.461437Z"
        },
        "id": "4njNBGA37S8e"
      },
      "outputs": [],
      "source": [
        "# Accident over day of week\n",
        "plt.figure(figsize=(10,5))\n",
        "sns.barplot(x = data['Start_Time'].dt.day_of_week.value_counts().index,y = (data['Start_Time'].dt.day_of_week.value_counts().values/len(data))*100, palette='icefire')\n",
        "plt.title('Count of Accidents over week days')\n",
        "plt.show()"
      ]
    },
    {
      "cell_type": "code",
      "execution_count": null,
      "metadata": {
        "execution": {
          "iopub.execute_input": "2024-01-01T14:42:21.535069Z",
          "iopub.status.busy": "2024-01-01T14:42:21.532958Z",
          "iopub.status.idle": "2024-01-01T14:42:22.719404Z",
          "shell.execute_reply": "2024-01-01T14:42:22.718128Z",
          "shell.execute_reply.started": "2024-01-01T14:42:21.534981Z"
        },
        "id": "k6p-jLB07S8e"
      },
      "outputs": [],
      "source": [
        "# Analyze the distribution of accidents on saturday and sunday\n",
        "weekends_data = data[(data['Start_Time'].dt.day_of_week == 5)|(data['Start_Time'].dt.day_of_week == 6)]\n"
      ]
    },
    {
      "cell_type": "code",
      "execution_count": null,
      "metadata": {
        "execution": {
          "iopub.execute_input": "2024-01-01T14:42:22.721218Z",
          "iopub.status.busy": "2024-01-01T14:42:22.720816Z",
          "iopub.status.idle": "2024-01-01T14:42:23.368398Z",
          "shell.execute_reply": "2024-01-01T14:42:23.366122Z",
          "shell.execute_reply.started": "2024-01-01T14:42:22.721163Z"
        },
        "id": "CzcsgpbM7S8e"
      },
      "outputs": [],
      "source": [
        "# Plotting the trend on weekends\n",
        "weekends_data['Start_Time'].dt.hour.value_counts()\n",
        "plt.figure(figsize=(10,5))\n",
        "sns.barplot(x = weekends_data['Start_Time'].dt.hour.value_counts().index,y = weekends_data['Start_Time'].dt.hour.value_counts().values)\n",
        "plt.title('Count of Accidents over time on weekends')\n",
        "plt.show()\n"
      ]
    },
    {
      "cell_type": "code",
      "execution_count": null,
      "metadata": {
        "execution": {
          "iopub.execute_input": "2024-01-01T15:24:26.351693Z",
          "iopub.status.busy": "2024-01-01T15:24:26.351278Z",
          "iopub.status.idle": "2024-01-01T15:24:27.056401Z",
          "shell.execute_reply": "2024-01-01T15:24:27.054504Z",
          "shell.execute_reply.started": "2024-01-01T15:24:26.351659Z"
        },
        "id": "OIcE0iUs7S8e"
      },
      "outputs": [],
      "source": [
        "# Analyzing the month which has most accidents\n",
        "data['Start_Time'].dt.month.value_counts().sort_index().plot(kind='bar')\n",
        "plt.title('Accidents by the month of the year')\n",
        "plt.show() # We cannot rely heavily on this data as most of it is missing during the first 3 months of 2016 and also for the year 2023"
      ]
    },
    {
      "cell_type": "code",
      "execution_count": null,
      "metadata": {
        "execution": {
          "iopub.execute_input": "2024-01-01T14:42:23.371085Z",
          "iopub.status.busy": "2024-01-01T14:42:23.370673Z",
          "iopub.status.idle": "2024-01-01T14:42:27.379618Z",
          "shell.execute_reply": "2024-01-01T14:42:27.378402Z",
          "shell.execute_reply.started": "2024-01-01T14:42:23.371052Z"
        },
        "id": "dXzwVzDk7S8f"
      },
      "outputs": [],
      "source": [
        "year = data['Start_Time'].dt.year\n",
        "\n",
        "# Count the occurrences of each year and create a bar plot using Seaborn\n",
        "sns.countplot(x= year, data=data, palette='viridis')\n",
        "\n",
        "# Set plot labels and title\n",
        "plt.xlabel('Year')\n",
        "plt.xticks(rotation=45)\n",
        "plt.title('Distribution of Incidents Over the Years')\n",
        "\n",
        "# Display the plot\n",
        "plt.show()"
      ]
    },
    {
      "cell_type": "code",
      "execution_count": null,
      "metadata": {
        "execution": {
          "iopub.execute_input": "2024-01-01T14:42:27.38222Z",
          "iopub.status.busy": "2024-01-01T14:42:27.381583Z",
          "iopub.status.idle": "2024-01-01T14:42:27.457747Z",
          "shell.execute_reply": "2024-01-01T14:42:27.455431Z",
          "shell.execute_reply.started": "2024-01-01T14:42:27.382158Z"
        },
        "id": "5PT6piSR7S8f"
      },
      "outputs": [],
      "source": [
        "severity_count = data['Severity'].value_counts()"
      ]
    },
    {
      "cell_type": "code",
      "execution_count": null,
      "metadata": {
        "execution": {
          "iopub.execute_input": "2024-01-01T14:42:27.461424Z",
          "iopub.status.busy": "2024-01-01T14:42:27.460856Z",
          "iopub.status.idle": "2024-01-01T14:42:27.680122Z",
          "shell.execute_reply": "2024-01-01T14:42:27.679231Z",
          "shell.execute_reply.started": "2024-01-01T14:42:27.461386Z"
        },
        "id": "Gxk5LKoL7S8f"
      },
      "outputs": [],
      "source": [
        "plt.figure(figsize = (10,7))\n",
        "plt.pie(severity_count, labels=severity_count.index, autopct='%1.1f%%',textprops={'weight':'bold'})\n",
        "plt.legend()\n",
        "plt.title('Distribution of Incident Severity')\n",
        "plt.show()"
      ]
    },
    {
      "cell_type": "markdown",
      "metadata": {
        "execution": {
          "iopub.execute_input": "2023-12-29T17:59:16.547838Z",
          "iopub.status.busy": "2023-12-29T17:59:16.547334Z",
          "iopub.status.idle": "2023-12-29T17:59:16.580779Z",
          "shell.execute_reply": "2023-12-29T17:59:16.579505Z",
          "shell.execute_reply.started": "2023-12-29T17:59:16.547798Z"
        },
        "id": "1S-g_Dr17S8f"
      },
      "source": [
        "# **INSIGHTS:**\n",
        "\n",
        "1. State-wise Analysis:\n",
        "\n",
        "    California, Florida, Texas, South Carolina, and New York emerge as the top 5 states with the highest number of accidents.\n",
        "\n",
        "2. City Breakdown:\n",
        "\n",
        "    Miami takes the lead with the highest number of accidents among the top 20 cities.\n",
        "    Columbia holds the distinction of having the lowest number of accidents in this select group.\n",
        "\n",
        "3. Peak Hour Findings:\n",
        "\n",
        "    The time window of 7-8 AM witnesses the majority of accidents, highlighting the importance of heightened awareness during morning rush hours. ⏰\n",
        "\n",
        "4. Severity 2 and 4 related accident effected the traffic the most ( for severity 2 since the value count is high average distance is on the greater side but as per data severity 4 accident has greatest impact on traffic )\n",
        "\n",
        "5. The accidents are high from December and  it is lowest at july. The rise continues to increase from the month of July.\n",
        "\n",
        "6. Accident Counts are higher in the year 2021."
      ]
    }
  ],
  "metadata": {
    "kaggle": {
      "accelerator": "none",
      "dataSources": [
        {
          "datasetId": 199387,
          "sourceId": 5793796,
          "sourceType": "datasetVersion"
        }
      ],
      "dockerImageVersionId": 30626,
      "isGpuEnabled": false,
      "isInternetEnabled": false,
      "language": "python",
      "sourceType": "notebook"
    },
    "kernelspec": {
      "display_name": "Python 3 (ipykernel)",
      "language": "python",
      "name": "python3"
    },
    "language_info": {
      "codemirror_mode": {
        "name": "ipython",
        "version": 3
      },
      "file_extension": ".py",
      "mimetype": "text/x-python",
      "name": "python",
      "nbconvert_exporter": "python",
      "pygments_lexer": "ipython3",
      "version": "3.11.8"
    },
    "colab": {
      "provenance": []
    }
  },
  "nbformat": 4,
  "nbformat_minor": 0
}